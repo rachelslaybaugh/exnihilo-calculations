{
 "cells": [
  {
   "cell_type": "code",
   "execution_count": 1,
   "metadata": {
    "collapsed": false
   },
   "outputs": [
    {
     "name": "stderr",
     "output_type": "stream",
     "text": [
      "Vendor:  Continuum Analytics, Inc.\n",
      "Package: mkl\n",
      "Message: trial mode expires in 30 days\n"
     ]
    }
   ],
   "source": [
    "import pandas as pd\n",
    "import string\n",
    "from matplotlib import rc\n",
    "\n",
    "fontsize = 12\n",
    "\n",
    "# Make default font serif\n",
    "rc('font', family=b'serif', size=fontsize)\n",
    "# Hide legend frame, change size, make only one scatter marker show up\n",
    "rc('legend', borderpad=0.,labelspacing=0.25, fontsize=(fontsize - 1.), frameon=False, numpoints=1)\n",
    "# Default line width (e.g. for plot()) should be thinner than 1 point\n",
    "rc('patch', linewidth=0.75)\n",
    "rc('lines', linewidth=0.75)"
   ]
  },
  {
   "cell_type": "markdown",
   "metadata": {},
   "source": [
    "# BW1484 Core I Output"
   ]
  },
  {
   "cell_type": "code",
   "execution_count": 2,
   "metadata": {
    "collapsed": true
   },
   "outputs": [],
   "source": [
    "k_ref = 1.00020"
   ]
  },
  {
   "cell_type": "markdown",
   "metadata": {},
   "source": [
    "### Load and parse the file"
   ]
  },
  {
   "cell_type": "code",
   "execution_count": 15,
   "metadata": {
    "collapsed": false
   },
   "outputs": [
    {
     "name": "stdout",
     "output_type": "stream",
     "text": [
      "mesh \n",
      "Pn_order 1\n",
      "first_group 0\n",
      "last_group 7\n",
      "mesh 2\n",
      "num_blocks_i 16\n",
      "num_blocks_j 16\n",
      "num_sets 2\n",
      "num_z_blocks 7\n",
      "tolerance 0.001\n",
      "mesh 0\n",
      "eigen_solver rayleigh_quotient\n",
      "eq_set ld\n",
      "problem_name out_bw1484_RQI_sn\n",
      "tolerance 0.001\n",
      "L2_tolerance 0.001\n",
      "k_tolerance 0.001\n",
      "tolerance 0.001\n",
      "Pn_order 1\n",
      "azimuthals_octant 2\n",
      "polars_octant 2\n",
      "Pn_order 1\n",
      "azimuthals_octant 2\n",
      "polars_octant 2\n",
      "tolerance 0.001\n",
      "num cells I 120\n",
      "num cells J 120\n",
      "num cells K 84\n",
      "num upscatter groups 4\n",
      "DoF 4954521600\n"
     ]
    }
   ],
   "source": [
    "import re\n",
    "\n",
    "# name of the file\n",
    "out_file='bw1484_small.out' #$1\n",
    "with open('/home/slayer/Dropbox/Software/Exnihilo/Calculations/bw1484/'+out_file, 'r') as f:\n",
    "\n",
    "    # Initialize the variables we'll need, then we can use them (inelegant).\n",
    "    name = ''\n",
    "    e_solver = ''\n",
    "    eq_set = ''\n",
    "    I_cells = ''\n",
    "    J_cells = ''\n",
    "    K_cells = ''\n",
    "    I_blocks = ''\n",
    "    J_blocks = ''\n",
    "    K_blocks = ''\n",
    "    Pn = ''\n",
    "    Az = ''\n",
    "    polar = ''\n",
    "    DoF = ''\n",
    "    L2_tol = ''\n",
    "    k_tol = ''\n",
    "    tol = ''\n",
    "    g_first = ''\n",
    "    g_last = ''\n",
    "    mesh = ''\n",
    "    sets = ''\n",
    "    up_groups = ''\n",
    "    ## Pairs of output variables and their keywords that always occur and only once\n",
    "    vals = {'problem_name' : name, 'eigen_solver' : e_solver, 'eq_set' : eq_set, \n",
    "            'num cells I' : I_cells, 'num cells J' : J_cells, 'num cells K' : K_cells,\n",
    "            'num_blocks_i' : I_blocks, 'num_blocks_j' : J_blocks, 'num_z_blocks' : K_blocks,\n",
    "            'Pn_order' : Pn, 'azimuthals_octant' : Az, 'polars_octant' : polar, 'DoF' : DoF,             \n",
    "            'L2_tolerance' : L2_tol, 'k_tolerance' : k_tol, 'tolerance' : tol, \n",
    "            'first_group' : g_first, 'last_group' : g_last, 'mesh' : mesh, 'num_sets' : sets,\n",
    "            'num upscatter groups' : up_groups}\n",
    "    for line in f:\n",
    "        for key in vals: \n",
    "            if re.search(key, line):\n",
    "                data = line.split(key)\n",
    "                vals[key] = data[1].strip() \n",
    "                print key, vals[key]\n",
    "# mg_preconditioner\n",
    "# relax_count,\n",
    "# relax_weight,\n",
    "# num_v_cycles,\n",
    "# if multilevel_quad_db,\n",
    "# Pn_order,\n",
    "# azimuthals_octant,\n",
    "# polars_octant,\n",
    "# if upscatter_db; tolerance,\n",
    "\n"
   ]
  },
  {
   "cell_type": "code",
   "execution_count": null,
   "metadata": {
    "collapsed": true
   },
   "outputs": [],
   "source": []
  }
 ],
 "metadata": {
  "kernelspec": {
   "display_name": "Python 2",
   "language": "python",
   "name": "python2"
  },
  "language_info": {
   "codemirror_mode": {
    "name": "ipython",
    "version": 2
   },
   "file_extension": ".py",
   "mimetype": "text/x-python",
   "name": "python",
   "nbconvert_exporter": "python",
   "pygments_lexer": "ipython2",
   "version": "2.7.10"
  }
 },
 "nbformat": 4,
 "nbformat_minor": 0
}
