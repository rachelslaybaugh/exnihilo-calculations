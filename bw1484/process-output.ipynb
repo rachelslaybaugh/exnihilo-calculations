{
 "cells": [
  {
   "cell_type": "code",
   "execution_count": 12,
   "metadata": {
    "collapsed": false
   },
   "outputs": [],
   "source": [
    "#import pandas as pd\n",
    "#import string\n",
    "#from matplotlib import rc\n",
    "\n",
    "fontsize = 12\n",
    "\n",
    "# Make default font serif\n",
    "rc('font', family=b'serif', size=fontsize)\n",
    "# Hide legend frame, change size, make only one scatter marker show up\n",
    "rc('legend', borderpad=0.,labelspacing=0.25, fontsize=(fontsize - 1.), frameon=False, numpoints=1)\n",
    "# Default line width (e.g. for plot()) should be thinner than 1 point\n",
    "rc('patch', linewidth=0.75)\n",
    "rc('lines', linewidth=0.75)"
   ]
  },
  {
   "cell_type": "markdown",
   "metadata": {},
   "source": [
    "# BW1484 Core I Output"
   ]
  },
  {
   "cell_type": "code",
   "execution_count": 13,
   "metadata": {
    "collapsed": true
   },
   "outputs": [],
   "source": [
    "k_ref = 1.00020"
   ]
  },
  {
   "cell_type": "markdown",
   "metadata": {},
   "source": [
    "### Load and parse the file"
   ]
  },
  {
   "cell_type": "code",
   "execution_count": 17,
   "metadata": {
    "collapsed": false
   },
   "outputs": [
    {
     "name": "stdout",
     "output_type": "stream",
     "text": [
      "{'eigenvalue': {'absolute error in k-eff of  ': ['6.062333e-02', '9.511580e-01', '2.231729e-02', '1.382703e-02', '1.704740e-02', '3.930580e-02', '1.805493e-02', '3.761314e-02', '9.377759e-01', '9.591924e-01', '1.726519e-02', '1.675996e-02', '1.680559e-02', '3.872116e-02', '9.376491e-01', '9.598944e-01', '1.756059e-02', '1.693256e-02', '1.665289e-02', '3.892106e-02', '9.382343e-01', '9.603662e-01', '1.751200e-02', '1.703752e-02', '1.660935e-02', '3.899721e-02', '9.384463e-01', '9.605389e-01', '1.749348e-02', '1.707629e-02', '1.659436e-02', '3.902436e-02', '9.385240e-01', '9.606024e-01', '1.748677e-02', '1.709065e-02', '1.658913e-02', '3.903402e-02', '9.385530e-01', '9.606261e-01', '1.748430e-02', '1.709610e-02', '1.658734e-02', '3.903745e-02', '9.385641e-01', '9.606353e-01', '1.748338e-02', '1.709824e-02', '1.658674e-02', '3.903867e-02', '9.385685e-01', '9.606390e-01', '1.748302e-02', '1.709912e-02', '1.658656e-02', '3.903911e-02', '9.385704e-01', '9.606405e-01', '1.748288e-02'], 'relative error in k-eff of  ': ['1.907093e+01', '1.490793e+01', '2.198834e-02', '1.333012e-02', '1.621856e-02', '3.679795e-02', '1.754872e-02', '3.592808e-02', '9.291460e-01', '1.341302e+01', '1.675086e-02', '1.599279e-02', '1.629697e-02', '3.694714e-02', '9.290147e-01', '1.339792e+01', '1.702368e-02', '1.614008e-02', '1.613390e-02', '3.710937e-02', '9.290375e-01', '1.340077e+01', '1.696848e-02', '1.623327e-02', '1.608645e-02', '3.717153e-02', '9.290464e-01', '1.340197e+01', '1.694759e-02', '1.626772e-02', '1.607004e-02', '3.719362e-02', '9.290500e-01', '1.340247e+01', '1.694002e-02', '1.628049e-02', '1.606428e-02', '3.720143e-02', '9.290515e-01', '1.340269e+01', '1.693723e-02', '1.628534e-02', '1.606229e-02', '3.720418e-02', '9.290521e-01', '1.340280e+01', '1.693618e-02', '1.628725e-02', '1.606161e-02', '3.720515e-02', '9.290525e-01', '1.340285e+01', '1.693578e-02', '1.628804e-02', '1.606140e-02', '3.720548e-02', '9.290526e-01', '1.340288e+01', '1.693561e-02'], 'Eigenvalue Iteration    ': ['1', '2', '3', '4', '5', '6', '7', '8', '9']}, 'fixed_source': {'Iterations =': ['1', '24', '24', '100', '100', '100', '29', '100', '1', '15', '25', '100', '29', '100', '1', '15', '25', '100', '29', '100', '1', '15', '25', '100', '29', '100', '1', '15', '25', '100', '29', '100', '1', '15', '25', '100', '29', '100', '1', '15', '25', '100', '29', '100', '1', '15', '25', '100', '29', '100', '1', '15', '25', '100', '29', '100', '1', '15', '25']}}\n"
     ]
    }
   ],
   "source": [
    "import re\n",
    "import os\n",
    "import numpy as np\n",
    "\n",
    "# name of the file containing the output we want to process; \n",
    "# figure out how to make this a command line option later\n",
    "out_file='bw1484_small.out' #$1\n",
    "full_out_file = os.path.join('/home/slayer/Dropbox/Software/Exnihilo/Calculations/bw1484/',\n",
    "                            out_file)\n",
    "if os.path.isfile(full_out_file):\n",
    "    f = open(full_out_file, 'r')\n",
    "else:\n",
    "    raise IOError('could not find file', full_out_file)\n",
    "\n",
    "## Pairs of output variables that are in the header / problem specification\n",
    "keys = ['problem_name', 'num cells I', 'num cells J', 'num cells K', 'cells', 'mesh ',\n",
    "        'num_blocks_i', 'num_blocks_j', 'num_z_blocks', 'blocks', 'num_groups', \n",
    "        'num upscatter groups', 'num_sets', 'domains', 'Pn_order', 'azimuthals_octant', \n",
    "        'polars_octant', 'eq_set', 'DoF', 'tolerance', 'L2_tolerance', 'k_tolerance',\n",
    "        'up_tol', 'eigen_solver', 'mg_preconditioner', 'relax_count', 'num_v_cycles', \n",
    "        'relax_weight', 'ml_Pn', 'ml_az', 'ml_oct']\n",
    "vals = {key: None for key in keys}\n",
    "\n",
    "# set flags and keys to use for items with duplicate entries\n",
    "ml_flag = False\n",
    "ml_keys = ['Pn_order', 'azimuthals_octant', 'polars_octant']\n",
    "ml_doubles = {key: None for key in ml_keys}\n",
    "ml_cnt = 0\n",
    "\n",
    "up_db = False\n",
    "doubles = {'tolerance' : None}\n",
    "\n",
    "for line in f:\n",
    "    \n",
    "    # check for the duplicate items before processing the next stuff\n",
    "    if ml_flag == True: \n",
    "        if ml_cnt != 3:\n",
    "            for ml_key in ml_doubles:\n",
    "                if re.search(ml_key, line):\n",
    "                    if ml_doubles[ml_key] == None:\n",
    "                        data = line.split(ml_key)\n",
    "                        ml_doubles[ml_key] = data[1].strip() \n",
    "                        ml_cnt = ml_cnt + 1\n",
    "        else:\n",
    "            ml_flag = False\n",
    "    if up_db == True:\n",
    "        if re.search('tolerance', line):\n",
    "            if doubles['tolerance'] == None:\n",
    "                data = line.split('tolerance')\n",
    "                doubles['tolerance'] = data[1].strip() \n",
    "                up_db = False\n",
    "        \n",
    "    for key in vals: \n",
    "        # check for things to set the flags\n",
    "        if re.search('multilevel_quad_db', line):\n",
    "            ml_flag = True\n",
    "        if re.search('upscatter_db', line):\n",
    "            up_db = True   \n",
    "        # now look for the rest of the keys\n",
    "        if re.search(key, line):\n",
    "            data = line.split(key)\n",
    "            vals[key] = data[1].strip()  \n",
    "        \n",
    "# calculate things we want in the spreadsheet\n",
    "vals['cells'] = int(vals['num cells I']) * int(vals['num cells J']) * int(vals['num cells K'])\n",
    "vals['blocks'] = int(vals['num_blocks_i']) * int(vals['num_blocks_j'])\n",
    "vals['domains'] = int(vals['blocks']) * int(vals['num_sets'])\n",
    "# set doubles\n",
    "vals['ml_Pn'] = ml_doubles['Pn_order']\n",
    "vals['ml_az'] = ml_doubles['azimuthals_octant']\n",
    "vals['ml_oct'] = ml_doubles['polars_octant']\n",
    "vals['up_tol'] = doubles['tolerance']\n",
    "\n",
    "#------------------------------------------------------\n",
    "# Solution information: iteration, time, etc.\n",
    "\n",
    "# put file back to beginning\n",
    "f.seek(0,0)\n",
    "\n",
    "# one time keys\n",
    "run_keys = ['procs-per-node-x', 'procs-per-node-y', ]\n",
    "\n",
    "# Iteration information\n",
    "key_map = {'fxd_iters' : 'Iterations =', 'fxd_res' : '[ 0 ] =', \n",
    "           'eigen_iters' : 'Eigenvalue Iteration', 'rel_err_k' : 'relative error', \n",
    "           'abs_err_k' : 'absolute error'}\n",
    "iter_dict = {'fixed_source' : {'Iterations =' : []},#, '[ 0 ] =' : []},\n",
    "             'eigenvalue' : {'Eigenvalue Iteration    ' : [], 'relative error in k-eff of  ' : [],\n",
    "                             'absolute error in k-eff of  ' : []}}\n",
    "# Loop through the file for iteration information\n",
    "for line in f:\n",
    "    \n",
    "    # Fixed source iterations\n",
    "    for key in iter_dict['fixed_source']:\n",
    "        if re.search(key, line):\n",
    "            data = line.split(key)\n",
    "            num = data[1].split(' ')\n",
    "            iter_dict['fixed_source'][key].append(num[1].strip())\n",
    "    # Eigenvalue iterations\n",
    "    for key in iter_dict['eigenvalue']:\n",
    "        if re.search(key, line):\n",
    "            data = line.split(key)\n",
    "            num = data[1].split(' ')\n",
    "            iter_dict['eigenvalue'][key].append(num[0].strip())        \n",
    "print iter_dict\n",
    "    "
   ]
  },
  {
   "cell_type": "markdown",
   "metadata": {},
   "source": [
    "### print information to csv"
   ]
  },
  {
   "cell_type": "code",
   "execution_count": 3,
   "metadata": {
    "collapsed": false
   },
   "outputs": [],
   "source": [
    "import csv\n",
    "with open('output.csv', 'wb') as csvfile:\n",
    "    # write the header / problem specification information\n",
    "    writer = csv.DictWriter(csvfile, fieldnames = keys, dialect='excel', \n",
    "                            restval='',extrasaction='ignore')\n",
    "    #if not csv.Sniffer().has_header(csvfile.read(1024)):\n",
    "    writer.writeheader()\n",
    "    writer.writerow(vals)\n",
    "    \n",
    "    # Now write the iteration and timing information\n",
    "    "
   ]
  },
  {
   "cell_type": "code",
   "execution_count": null,
   "metadata": {
    "collapsed": true
   },
   "outputs": [],
   "source": []
  }
 ],
 "metadata": {
  "kernelspec": {
   "display_name": "Python 2",
   "language": "python",
   "name": "python2"
  },
  "language_info": {
   "codemirror_mode": {
    "name": "ipython",
    "version": 2
   },
   "file_extension": ".py",
   "mimetype": "text/x-python",
   "name": "python",
   "nbconvert_exporter": "python",
   "pygments_lexer": "ipython2",
   "version": "2.7.10"
  }
 },
 "nbformat": 4,
 "nbformat_minor": 0
}
