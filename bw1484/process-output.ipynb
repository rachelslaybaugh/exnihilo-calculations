{
 "cells": [
  {
   "cell_type": "code",
   "execution_count": 12,
   "metadata": {
    "collapsed": false
   },
   "outputs": [],
   "source": [
    "#import pandas as pd\n",
    "#import string\n",
    "#from matplotlib import rc\n",
    "\n",
    "fontsize = 12\n",
    "\n",
    "# Make default font serif\n",
    "rc('font', family=b'serif', size=fontsize)\n",
    "# Hide legend frame, change size, make only one scatter marker show up\n",
    "rc('legend', borderpad=0.,labelspacing=0.25, fontsize=(fontsize - 1.), frameon=False, numpoints=1)\n",
    "# Default line width (e.g. for plot()) should be thinner than 1 point\n",
    "rc('patch', linewidth=0.75)\n",
    "rc('lines', linewidth=0.75)"
   ]
  },
  {
   "cell_type": "markdown",
   "metadata": {},
   "source": [
    "# BW1484 Core I Output"
   ]
  },
  {
   "cell_type": "code",
   "execution_count": 13,
   "metadata": {
    "collapsed": true
   },
   "outputs": [],
   "source": [
    "k_ref = 1.00020"
   ]
  },
  {
   "cell_type": "markdown",
   "metadata": {},
   "source": [
    "### Load and parse the file"
   ]
  },
  {
   "cell_type": "code",
   "execution_count": 19,
   "metadata": {
    "collapsed": false
   },
   "outputs": [],
   "source": [
    "import re\n",
    "\n",
    "# name of the file\n",
    "out_file='bw1484_small.out' #$1\n",
    "f = open('/home/slayer/Dropbox/Software/Exnihilo/Calculations/bw1484/'+out_file, 'r')\n",
    "\n",
    "## Pairs of output variables and their keywords that always occur and only once\n",
    "keys = ['problem_name', 'num cells I', 'num cells J', 'num cells K', 'cells', 'mesh ',\n",
    "        'num_blocks_i', 'num_blocks_j', 'num_z_blocks', 'blocks', 'num_groups', \n",
    "        'num upscatter groups', 'num_sets', 'domains', 'Pn_order', 'azimuthals_octant', \n",
    "        'polars_octant', 'eq_set', 'DoF', 'tolerance', 'L2_tolerance', 'k_tolerance',\n",
    "        'up_tol', 'eigen_solver', 'mg_preconditioner', 'relax_count', 'num_v_cycles', \n",
    "        'relax_weight', 'ml_Pn', 'ml_az', 'ml_oct']\n",
    "vals = {key: None for key in keys}\n",
    "\n",
    "# set flags and keys to use for items with duplicate entries\n",
    "ml_flag = False\n",
    "ml_keys = ['Pn_order', 'azimuthals_octant', 'polars_octant']\n",
    "ml_doubles = {key: None for key in ml_keys}\n",
    "ml_cnt = 0\n",
    "\n",
    "up_db = False\n",
    "doubles = {'tolerance' : None}\n",
    "\n",
    "for line in f:\n",
    "    \n",
    "    # check for the duplicate items before processing the next stuff\n",
    "    if ml_flag == True: \n",
    "        if ml_cnt != 3:\n",
    "            for ml_key in ml_doubles:\n",
    "                if re.search(ml_key, line):\n",
    "                    if ml_doubles[ml_key] == None:\n",
    "                        data = line.split(ml_key)\n",
    "                        ml_doubles[ml_key] = data[1].strip() \n",
    "                        ml_cnt = ml_cnt + 1\n",
    "        else:\n",
    "            ml_flag = False\n",
    "    if up_db == True:\n",
    "        if re.search('tolerance', line):\n",
    "            if doubles['tolerance'] == None:\n",
    "                data = line.split('tolerance')\n",
    "                doubles['tolerance'] = data[1].strip() \n",
    "                up_db = False\n",
    "        \n",
    "    for key in vals: \n",
    "        # check for things to set the flags\n",
    "        if re.search('multilevel_quad_db', line):\n",
    "            ml_flag = True\n",
    "        if re.search('upscatter_db', line):\n",
    "            up_db = True   \n",
    "        # now look for the rest of the keys\n",
    "        if re.search(key, line):\n",
    "            data = line.split(key)\n",
    "            vals[key] = data[1].strip()  \n",
    "        \n",
    "# calculate things we want in the spreadsheet\n",
    "vals['cells'] = int(vals['num cells I']) * int(vals['num cells J']) * int(vals['num cells K'])\n",
    "vals['blocks'] = int(vals['num_blocks_i']) * int(vals['num_blocks_j'])\n",
    "vals['domains'] = int(vals['blocks']) * int(vals['num_sets'])\n",
    "# set doubles\n",
    "vals['ml_Pn'] = ml_doubles['Pn_order']\n",
    "vals['ml_az'] = ml_doubles['azimuthals_octant']\n",
    "vals['ml_oct'] = ml_doubles['polars_octant']\n",
    "vals['up_tol'] = doubles['tolerance']"
   ]
  },
  {
   "cell_type": "markdown",
   "metadata": {},
   "source": [
    "### print information to csv"
   ]
  },
  {
   "cell_type": "code",
   "execution_count": 20,
   "metadata": {
    "collapsed": false
   },
   "outputs": [
    {
     "ename": "IOError",
     "evalue": "File not open for reading",
     "output_type": "error",
     "traceback": [
      "\u001b[1;31m---------------------------------------------------------------------------\u001b[0m",
      "\u001b[1;31mIOError\u001b[0m                                   Traceback (most recent call last)",
      "\u001b[1;32m<ipython-input-20-53f59bd96d33>\u001b[0m in \u001b[0;36m<module>\u001b[1;34m()\u001b[0m\n\u001b[0;32m      3\u001b[0m     writer = csv.DictWriter(csvfile, fieldnames = keys, dialect='excel', \n\u001b[0;32m      4\u001b[0m                             restval='',extrasaction='ignore')\n\u001b[1;32m----> 5\u001b[1;33m     \u001b[1;32mif\u001b[0m \u001b[1;32mnot\u001b[0m \u001b[0mcsv\u001b[0m\u001b[1;33m.\u001b[0m\u001b[0mSniffer\u001b[0m\u001b[1;33m(\u001b[0m\u001b[1;33m)\u001b[0m\u001b[1;33m.\u001b[0m\u001b[0mhas_header\u001b[0m\u001b[1;33m(\u001b[0m\u001b[0mcsvfile\u001b[0m\u001b[1;33m.\u001b[0m\u001b[0mread\u001b[0m\u001b[1;33m(\u001b[0m\u001b[1;36m1024\u001b[0m\u001b[1;33m)\u001b[0m\u001b[1;33m)\u001b[0m\u001b[1;33m:\u001b[0m\u001b[1;33m\u001b[0m\u001b[0m\n\u001b[0m\u001b[0;32m      6\u001b[0m         \u001b[0mwriter\u001b[0m\u001b[1;33m.\u001b[0m\u001b[0mwriteheader\u001b[0m\u001b[1;33m(\u001b[0m\u001b[1;33m)\u001b[0m\u001b[1;33m\u001b[0m\u001b[0m\n\u001b[0;32m      7\u001b[0m     \u001b[0mwriter\u001b[0m\u001b[1;33m.\u001b[0m\u001b[0mwriterow\u001b[0m\u001b[1;33m(\u001b[0m\u001b[0mvals\u001b[0m\u001b[1;33m)\u001b[0m\u001b[1;33m\u001b[0m\u001b[0m\n",
      "\u001b[1;31mIOError\u001b[0m: File not open for reading"
     ]
    }
   ],
   "source": [
    "import csv\n",
    "with open('output.csv', 'wb') as csvfile:\n",
    "    writer = csv.DictWriter(csvfile, fieldnames = keys, dialect='excel', \n",
    "                            restval='',extrasaction='ignore')\n",
    "    if not csv.Sniffer().has_header(csvfile.read(1024)):\n",
    "        writer.writeheader()\n",
    "    writer.writerow(vals)"
   ]
  },
  {
   "cell_type": "code",
   "execution_count": null,
   "metadata": {
    "collapsed": true
   },
   "outputs": [],
   "source": []
  }
 ],
 "metadata": {
  "kernelspec": {
   "display_name": "Python 2",
   "language": "python",
   "name": "python2"
  },
  "language_info": {
   "codemirror_mode": {
    "name": "ipython",
    "version": 2
   },
   "file_extension": ".py",
   "mimetype": "text/x-python",
   "name": "python",
   "nbconvert_exporter": "python",
   "pygments_lexer": "ipython2",
   "version": "2.7.10"
  }
 },
 "nbformat": 4,
 "nbformat_minor": 0
}
