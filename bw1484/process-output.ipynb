{
 "cells": [
  {
   "cell_type": "code",
   "execution_count": 1,
   "metadata": {
    "collapsed": false
   },
   "outputs": [
    {
     "name": "stderr",
     "output_type": "stream",
     "text": [
      "Vendor:  Continuum Analytics, Inc.\n",
      "Package: mkl\n",
      "Message: trial mode expires in 30 days\n"
     ]
    }
   ],
   "source": [
    "import pandas as pd\n",
    "import string\n",
    "from matplotlib import rc\n",
    "\n",
    "fontsize = 12\n",
    "\n",
    "# Make default font serif\n",
    "rc('font', family=b'serif', size=fontsize)\n",
    "# Hide legend frame, change size, make only one scatter marker show up\n",
    "rc('legend', borderpad=0.,labelspacing=0.25, fontsize=(fontsize - 1.), frameon=False, numpoints=1)\n",
    "# Default line width (e.g. for plot()) should be thinner than 1 point\n",
    "rc('patch', linewidth=0.75)\n",
    "rc('lines', linewidth=0.75)"
   ]
  },
  {
   "cell_type": "markdown",
   "metadata": {},
   "source": [
    "# BW1484 Core I Output"
   ]
  },
  {
   "cell_type": "code",
   "execution_count": 2,
   "metadata": {
    "collapsed": true
   },
   "outputs": [],
   "source": [
    "k_ref = 1.00020"
   ]
  },
  {
   "cell_type": "markdown",
   "metadata": {},
   "source": [
    "### Load and parse the file"
   ]
  },
  {
   "cell_type": "code",
   "execution_count": 11,
   "metadata": {
    "collapsed": false
   },
   "outputs": [
    {
     "name": "stdout",
     "output_type": "stream",
     "text": [
      "{'num_sets': '2', 'Pn_order': '3', 'last_group': '7', 'ml_oct': '2', 'relax_weight': '1', 'up_tol': '0.001', 'num_groups': 8, 'relax_count': '1', 'mg_preconditioner': 'Multilevel', 'k_tolerance': '0.001', 'azimuthals_octant': '6', 'num upscatter groups': '4', 'eigen_solver': 'rayleigh_quotient', 'num_v_cycles': '1', 'L2_tolerance': '0.001', 'ml_Pn': '1', 'eq_set': 'ld', 'ml_az': '2', 'num_z_blocks': '7', 'num cells I': '120', 'num cells J': '120', 'num cells K': '84', 'mesh ': '0', 'problem_name': 'out_bw1484_RQI_sn', 'num_blocks_i': '16', 'num_blocks_j': '16', 'DoF': '4954521600', 'first_group': '0', 'polars_octant': '12'}\n"
     ]
    }
   ],
   "source": [
    "import re\n",
    "\n",
    "# name of the file\n",
    "out_file='bw1484_small.out' #$1\n",
    "f = open('/home/slayer/Dropbox/Software/Exnihilo/Calculations/bw1484/'+out_file, 'r')\n",
    "\n",
    "## Pairs of output variables and their keywords that always occur and only once\n",
    "keys = ['problem_name', 'eigen_solver', 'eq_set', 'num cells I', 'num cells J', \n",
    "        'num cells K', 'num_blocks_i', 'num_blocks_j', 'num_z_blocks', 'DoF', \n",
    "        'L2_tolerance', 'k_tolerance', 'first_group', 'last_group', 'mesh ', 'num_sets', \n",
    "        'num upscatter groups', 'mg_preconditioner', 'relax_count', 'num_v_cycles', \n",
    "        'relax_weight', 'Pn_order', 'azimuthals_octant', 'polars_octant']\n",
    "vals = {key: None for key in keys}\n",
    "\n",
    "# set flags and keys to use for items with duplicate entries\n",
    "ml_flag = False\n",
    "ml_keys = ['Pn_order', 'azimuthals_octant', 'polars_octant']\n",
    "ml_doubles = {key: None for key in ml_keys}\n",
    "ml_cnt = 0\n",
    "\n",
    "up_db = False\n",
    "doubles = {'tolerance' : None}\n",
    "\n",
    "for line in f:\n",
    "    \n",
    "    # check for the duplicate items before processing the next stuff\n",
    "    if ml_flag == True: \n",
    "        if ml_cnt != 3:\n",
    "            for ml_key in ml_doubles:\n",
    "                if re.search(ml_key, line):\n",
    "                    if ml_doubles[ml_key] == None:\n",
    "                        data = line.split(ml_key)\n",
    "                        ml_doubles[ml_key] = data[1].strip() \n",
    "                        ml_cnt = ml_cnt + 1\n",
    "        else:\n",
    "            ml_flag = False\n",
    "    if up_db == True:\n",
    "        if re.search('tolerance', line):\n",
    "            if doubles['tolerance'] == None:\n",
    "                data = line.split('tolerance')\n",
    "                doubles['tolerance'] = data[1].strip() \n",
    "                up_db = False\n",
    "        \n",
    "    for key in vals: \n",
    "        # check for things to set the flags\n",
    "        if re.search('multilevel_quad_db', line):\n",
    "            ml_flag = True\n",
    "        if re.search('upscatter_db', line):\n",
    "            up_db = True   \n",
    "        # now look for the rest of the keys\n",
    "        if re.search(key, line):\n",
    "            data = line.split(key)\n",
    "            vals[key] = data[1].strip()  \n",
    "        \n",
    "# set things we want in the spreadsheet\n",
    "vals['num_groups'] = int(vals['last_group']) - int(vals['first_group']) + 1\n",
    "vals['ml_Pn'] = ml_doubles['Pn_order']\n",
    "vals['ml_az'] = ml_doubles['azimuthals_octant']\n",
    "vals['ml_oct'] = ml_doubles['polars_octant']\n",
    "vals['up_tol'] = doubles['tolerance']\n",
    "\n",
    "print vals\n",
    "# ones needing special handling: 'Pn_order', 'azimuthals_octant', 'polars_octant', 'tolerance', \n",
    "\n",
    "# if multilevel_quad_db,\n",
    "# Pn_order,\n",
    "# azimuthals_octant,\n",
    "# polars_octant,\n",
    "# if upscatter_db; tolerance,\n"
   ]
  },
  {
   "cell_type": "code",
   "execution_count": null,
   "metadata": {
    "collapsed": true
   },
   "outputs": [],
   "source": []
  }
 ],
 "metadata": {
  "kernelspec": {
   "display_name": "Python 2",
   "language": "python",
   "name": "python2"
  },
  "language_info": {
   "codemirror_mode": {
    "name": "ipython",
    "version": 2
   },
   "file_extension": ".py",
   "mimetype": "text/x-python",
   "name": "python",
   "nbconvert_exporter": "python",
   "pygments_lexer": "ipython2",
   "version": "2.7.10"
  }
 },
 "nbformat": 4,
 "nbformat_minor": 0
}
