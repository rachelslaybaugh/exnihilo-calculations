{
 "cells": [
  {
   "cell_type": "code",
   "execution_count": 1,
   "metadata": {
    "collapsed": false
   },
   "outputs": [
    {
     "name": "stderr",
     "output_type": "stream",
     "text": [
      "Vendor:  Continuum Analytics, Inc.\n",
      "Package: mkl\n",
      "Message: trial mode expires in 30 days\n"
     ]
    }
   ],
   "source": [
    "import pandas as pd\n",
    "import string\n",
    "from matplotlib import rc\n",
    "\n",
    "fontsize = 12\n",
    "\n",
    "# Make default font serif\n",
    "rc('font', family=b'serif', size=fontsize)\n",
    "# Hide legend frame, change size, make only one scatter marker show up\n",
    "rc('legend', borderpad=0.,labelspacing=0.25, fontsize=(fontsize - 1.), frameon=False, numpoints=1)\n",
    "# Default line width (e.g. for plot()) should be thinner than 1 point\n",
    "rc('patch', linewidth=0.75)\n",
    "rc('lines', linewidth=0.75)"
   ]
  },
  {
   "cell_type": "markdown",
   "metadata": {},
   "source": [
    "# BW1484 Core I Output"
   ]
  },
  {
   "cell_type": "code",
   "execution_count": 3,
   "metadata": {
    "collapsed": true
   },
   "outputs": [],
   "source": [
    "k_ref = 1.00020"
   ]
  },
  {
   "cell_type": "markdown",
   "metadata": {},
   "source": [
    "### Load and parse the file"
   ]
  },
  {
   "cell_type": "code",
   "execution_count": 1,
   "metadata": {
    "collapsed": false
   },
   "outputs": [
    {
     "ename": "NameError",
     "evalue": "name 'name' is not defined",
     "output_type": "error",
     "traceback": [
      "\u001b[1;31m---------------------------------------------------------------------------\u001b[0m",
      "\u001b[1;31mNameError\u001b[0m                                 Traceback (most recent call last)",
      "\u001b[1;32m<ipython-input-1-8fd5db7a7e72>\u001b[0m in \u001b[0;36m<module>\u001b[1;34m()\u001b[0m\n\u001b[0;32m      6\u001b[0m \u001b[1;33m\u001b[0m\u001b[0m\n\u001b[0;32m      7\u001b[0m     \u001b[1;31m## Pairs of output variables and their keywords that always occur and only once:\u001b[0m\u001b[1;33m\u001b[0m\u001b[1;33m\u001b[0m\u001b[0m\n\u001b[1;32m----> 8\u001b[1;33m     vals = {'problem_name' : name, 'eigen_solver' : e_solver, 'eq_set' : eq_set, \n\u001b[0m\u001b[0;32m      9\u001b[0m             \u001b[1;34m'num cells I'\u001b[0m \u001b[1;33m:\u001b[0m \u001b[0mI_cells\u001b[0m\u001b[1;33m,\u001b[0m \u001b[1;34m'num cells J'\u001b[0m \u001b[1;33m:\u001b[0m \u001b[0mJ_cells\u001b[0m\u001b[1;33m,\u001b[0m \u001b[1;34m'num cells K'\u001b[0m \u001b[1;33m:\u001b[0m \u001b[0mK_cells\u001b[0m\u001b[1;33m,\u001b[0m\u001b[1;33m\u001b[0m\u001b[0m\n\u001b[0;32m     10\u001b[0m             \u001b[1;34m'num_blocks_i'\u001b[0m \u001b[1;33m:\u001b[0m \u001b[0mI_blocks\u001b[0m\u001b[1;33m,\u001b[0m \u001b[1;34m'num_blocks_j'\u001b[0m \u001b[1;33m:\u001b[0m \u001b[0mJ_blocks\u001b[0m\u001b[1;33m,\u001b[0m \u001b[1;34m'num_z_blocks'\u001b[0m \u001b[1;33m:\u001b[0m \u001b[0mK_blocks\u001b[0m\u001b[1;33m,\u001b[0m\u001b[1;33m\u001b[0m\u001b[0m\n",
      "\u001b[1;31mNameError\u001b[0m: name 'name' is not defined"
     ]
    }
   ],
   "source": [
    "import re\n",
    "\n",
    "# name of the file\n",
    "out_file='bw1484_small.out' #$1\n",
    "with open('/home/slayer/Dropbox/Software/Exnihilo/Calculations/bw1484/'+out_file, 'r') as f:\n",
    "\n",
    "    ## Pairs of output variables and their keywords that always occur and only once:\n",
    "    vals = {'problem_name' : name, 'eigen_solver' : e_solver, 'eq_set' : eq_set, \n",
    "            'num cells I' : I_cells, 'num cells J' : J_cells, 'num cells K' : K_cells,\n",
    "            'num_blocks_i' : I_blocks, 'num_blocks_j' : J_blocks, 'num_z_blocks' : K_blocks,\n",
    "            'Pn_order' : Pn, 'azimuthals_octant' : Az, 'polars_octant' : polar, 'DoF' : DoF,             \n",
    "            'L2_tolerance' : L2_tol, 'k_tolerance' : k_tol, 'tolerance' : tol, \n",
    "            'first_group' : g_first, 'last_group' : g_last, 'mesh' : mesh, 'num_sets' : sets,\n",
    "            'num upscatter groups' : up_groups}\n",
    "    for line in f:\n",
    "        for key in vals: \n",
    "            if re.search(key, line):\n",
    "                data = line.split(key)\n",
    "                vals[key] = data[1].strip() \n",
    "                print key, vals[key]\n",
    "# mg_preconditioner\n",
    "# relax_count,\n",
    "# relax_weight,\n",
    "# num_v_cycles,\n",
    "# if multilevel_quad_db,\n",
    "# Pn_order,\n",
    "# azimuthals_octant,\n",
    "# polars_octant,\n",
    "# if upscatter_db; tolerance,\n",
    "\n"
   ]
  },
  {
   "cell_type": "code",
   "execution_count": null,
   "metadata": {
    "collapsed": true
   },
   "outputs": [],
   "source": []
  }
 ],
 "metadata": {
  "kernelspec": {
   "display_name": "Python 2",
   "language": "python",
   "name": "python2"
  },
  "language_info": {
   "codemirror_mode": {
    "name": "ipython",
    "version": 2
   },
   "file_extension": ".py",
   "mimetype": "text/x-python",
   "name": "python",
   "nbconvert_exporter": "python",
   "pygments_lexer": "ipython2",
   "version": "2.7.10"
  }
 },
 "nbformat": 4,
 "nbformat_minor": 0
}
